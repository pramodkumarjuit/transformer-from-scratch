{
  "nbformat": 4,
  "nbformat_minor": 0,
  "metadata": {
    "colab": {
      "provenance": []
    },
    "kernelspec": {
      "name": "python3",
      "display_name": "Python 3"
    },
    "language_info": {
      "name": "python"
    }
  },
  "cells": [
    {
      "cell_type": "code",
      "execution_count": null,
      "metadata": {
        "id": "KKXfKKzQmqr-"
      },
      "outputs": [],
      "source": [
        "import torch\n",
        "import torch.nn as nn\n",
        "import math\n"
      ]
    },
    {
      "cell_type": "code",
      "source": [
        "class InputEmbeddings(nn.Module):\n",
        "  def __init__(self, d_model:int, vocab_size:int):\n",
        "    super().__init__()\n",
        "    self.d_model = d_model\n",
        "    self.vocab_size = vocab_size\n",
        "    self.embedding = nn.Embedding(vocab_size, d_model)\n",
        "\n",
        "  def forward(self, x):\n",
        "    # (batch, seq_len) --> (batch, seq_len, d_model)\n",
        "    # Multiply by sqrt(d_model) to scale the embeddings according to the paper\n",
        "    return self.embedding(x) * math.sqrt(self.d_model)"
      ],
      "metadata": {
        "id": "SwpurBF7D31b"
      },
      "execution_count": null,
      "outputs": []
    },
    {
      "cell_type": "code",
      "source": [
        "class PositionalEncoding(nn.Module):\n",
        "  def __init__(self, d_model:int, seq_length:int, dropout:float)->None:\n",
        "    super().__init__()\n",
        "    self.seq_length = seq_length\n",
        "    self.d_model = d_model\n",
        "    self.dropout = nn.Dropout(dropout)\n",
        "\n",
        "    #create a tensor of (seq_length, d_model)\n",
        "    pe = torch.zeros(seq_length, d_model) # self.pe not required - will be registered later\n",
        "\n",
        "    # create a tensor of shape (seq_length, 1)\n",
        "    position = torch.arange(0, seq_length, dtype=torch.float).unsqueeze(1)\n",
        "\n",
        "    div_term = torch.exp(torch.arange(0, d_model, 2).float() * (-math.log(1000.0)/d_model)) # (d_model / 2)\n",
        "\n",
        "    # Apply sin to even position and cos to odd position\n",
        "    pe[:, 0::2] = torch.sin(position * div_term) # sin(position * (10000 ** (2i / d_model))\n",
        "    pe[:, 1::2] = torch.cos(position * div_term) # cos(position * (10000 ** (2i / d_model))\n",
        "\n",
        "    # Add a batch dimension to the positional encoding\n",
        "    pe = pe.unsqueeze(0) # (1, seq_len, d_model)\n",
        "    self.register_buffer('pe', pe)\n",
        "\n",
        "  def forward(self, x):\n",
        "    x = x + (self.pe[:, :x.size(1), :]).requires_grad_(False) # (batch, seq_len, d_model)\n",
        "    return self.dropout(x)"
      ],
      "metadata": {
        "id": "2v4Bh7CTJbmH"
      },
      "execution_count": null,
      "outputs": []
    },
    {
      "cell_type": "code",
      "source": [
        "class LayerNormalization(nn.Module):\n",
        "  def __init__(self, eps: float = 10**-6) -> None:\n",
        "    super().__init__()\n",
        "    self.eps = eps\n",
        "    self.alpha = nn.Parameter(torch.ones(1)) # Multiplied\n",
        "    self.bias = nn.Parameter(torch.ones(1))  # Added\n",
        "\n",
        "  def forward(self, x):\n",
        "    mean = x.mean(-1, keepdim=True)\n",
        "    std = x.std(-1, keepdim=True)\n",
        "    return self.alpha * (x - mean) / (std + self.eps) + self.bias"
      ],
      "metadata": {
        "id": "Fwv_5R-4fnhe"
      },
      "execution_count": null,
      "outputs": []
    },
    {
      "cell_type": "code",
      "source": [
        "class FeedForwardBlock(nn.Module):\n",
        "  def __init__(self, d_model: int, d_ff: int, dropout: float) -> None:\n",
        "    super().__init__()\n",
        "    self.linear1 = nn.Linear(d_model, d_ff) # W1 & B1; Bias is True by default\n",
        "    self.dropout = nn.Dropout(dropout)\n",
        "    self.linear2 = nn.Linear(d_ff, d_model) # W2 and B2\n",
        "\n",
        "  def forward(self, x):\n",
        "    # (Batch, seq_len, d_model) -> (Batch, seq_len, d_ff)\n",
        "    x = self.linear1(x)\n",
        "    x = self.dropout(x)\n",
        "    # (Batch, seq_len, d_ff) -> (Batch, seq_len, d_model)\n",
        "    x = self.linear2(x)\n",
        "    return x"
      ],
      "metadata": {
        "id": "1BCvYS67gOxx"
      },
      "execution_count": null,
      "outputs": []
    },
    {
      "cell_type": "code",
      "source": [
        "class MultiHeadAttentionBlock(nn.Module):\n",
        "  def __init__(self, d_model: int, h: int, dropout: float)->None:\n",
        "    super().__init__()\n",
        "    self.d_model = d_model\n",
        "    self.h = h\n",
        "    assert d_model % h == 0, \"d_model is not divisiable by h\"\n",
        "\n",
        "    self.d_k = d_model // h\n",
        "    self.w_q = nn.Linear(d_model, d_model) #Wq\n",
        "    self.w_k = nn.Linear(d_model, d_model) #Wk\n",
        "    self.w_v = nn.Linear(d_model, d_model) #Wv\n",
        "\n",
        "    self.w_o = nn.Linear(d_model, d_model) #Wo\n",
        "    self.dropout = nn.Dropout(dropout)\n",
        "\n",
        "  @staticmethod\n",
        "  def attention(query, key, value, mask, dropout):\n",
        "    d_k = query.shape[-1]\n",
        "\n",
        "    # (Batch, h, seq_len, d_k) @ (Batch, h, d_k, seq_len) ==> (Batch, h, seq_len, seq_len)\n",
        "    attention_score = (query @ key.transpose(-2, -1))/math.sqrt(d_k)\n",
        "\n",
        "    # before applying softmax we need to apply mask to hide the interaction among some tokens/word.\n",
        "    if mask is not None:\n",
        "      attention_score.masked_fill_(mask == 0, -1e9)\n",
        "    attention_score = nn.functional.softmax(attention_score, dim=-1) # (Batch, h, seq_len, seq_len)\n",
        "\n",
        "    if dropout is not None:\n",
        "      attention_score = dropout(attention_score)\n",
        "\n",
        "    # shape of `attention_score @ value`: (Batch, h, seq_len, d_k)\n",
        "    return (attention_score @ value), attention_score # # return attention scores which can be used for visualization\n",
        "\n",
        "\n",
        "\n",
        "  '''\n",
        "  Note: Instead of passing q, k, v directly as arguments, we could have just passed the input x,\n",
        "         and then computed query, key, value inside the function using linear projections. But, why\n",
        "        do we pass q,k,v three args which is essentaially embedding in input_seq ?\n",
        "        - Passing q,k,v provides flexibility to support both selfAttention & MultiHeadAttention\n",
        "        - For implementing just selfAttention, we can use a single input in fwd function and calculates query, key, value\n",
        "        - But, for cross-attention, we need to q from decoder input and k,v from encoder output.\n",
        "  '''\n",
        "  def forward(self, q, k, v, mask):\n",
        "    query = self.w_q(q)   # (Batch, seq_len, d_model)\n",
        "    key = self.w_k(k)     # (Batch, seq_len, d_model)\n",
        "    value = self.w_v(v)   # (Batch, seq_len, d_model)\n",
        "\n",
        "    # (Batch, seq_len, d_model) --> (Batch, seq_seq_len, h, d_k) --> (Batch, h, seq_len, d_k)\n",
        "    query = query.view(query.shape[0], query.shape[1], self.h, self.d_k).transpose(1,2)\n",
        "    key = key.view(key.shape[0], key.shape[1], self.h, self.d_k).transpose(1,2)\n",
        "    value = value.view(value.shape[0], value.shape[1], self.h, self.d_k).transpose(1,2)\n",
        "\n",
        "    x, self.attention_score = MultiHeadAttentionBlock.attention(query, key, value, mask, self.dropout)\n",
        "\n",
        "    # Combine all the heads together\n",
        "    # (Batch, h, seq_len, d_k) --> (Batch, seq_len, h, d_k) --> (Batch, seq_len, d_model)\n",
        "    x = x.transpose(1,2).contiguous().view(x.shape[0], -1, self.h*self.d_k) # d_k = self.h*self.d_k\n",
        "\n",
        "    # (Batch, seq_len, d_model) --> (Batch, seq_len, d_model)\n",
        "    return self.w_o(x)\n"
      ],
      "metadata": {
        "id": "uxT3p6w5sM2B"
      },
      "execution_count": null,
      "outputs": []
    },
    {
      "cell_type": "code",
      "source": [
        "class ResidualConnection(nn.Module):\n",
        "  def __init__(self, dropout: float) -> None:\n",
        "    super().__init__()\n",
        "    self.dropout = nn.Dropout(dropout)\n",
        "    self.norm = LayerNormalization()\n",
        "\n",
        "  # sublayer is the previous module/layer\n",
        "  def forward(self, x, sublayer):\n",
        "    x = self.norm(x)\n",
        "    x = sublayer(x)\n",
        "    x = x + self.dropout(x)\n",
        "    return x\n",
        "    #return x + self.dropout(sublayer(self.norm(x)))"
      ],
      "metadata": {
        "id": "IZbCMTOKCUWS"
      },
      "execution_count": null,
      "outputs": []
    },
    {
      "cell_type": "code",
      "source": [
        "class EncoderBlock(nn.Module):\n",
        "  def __init__(self, self_attention_block:MultiHeadAttentionBlock, feed_forward_block: FeedForwardBlock, dropout: float) -> None:\n",
        "    super().__init__()\n",
        "    self.self_attention_block = self_attention_block\n",
        "    self.feed_forward_block = feed_forward_block\n",
        "    # self.residual_connection1 = ResidualConnection(dropout)\n",
        "    # self.residual_connection2 = ResidualConnection(dropout)\n",
        "    self.residual_connections = nn.ModuleList([ResidualConnection(dropout) for _ in range(2)])\n",
        "\n",
        "  def forward(self, x, src_mask):\n",
        "    #x = self.residual_connection1(x, self.self_attention_block(x, x, x, src_mask))\n",
        "    #x = self.residual_connection2(x, self.feed_forward_block(x))\n",
        "    x = self.residual_connections[0](x, lambda x: self.self_attention_block(x, x, x, src_mask)) # lambda means x is taken as input and used as parameter.\n",
        "    x = self.residual_connections[1](x, self.feed_forward_block)\n",
        "    return x"
      ],
      "metadata": {
        "id": "fUihHuNLHYPb"
      },
      "execution_count": null,
      "outputs": []
    },
    {
      "cell_type": "code",
      "source": [
        "class Encoder(nn.Module):\n",
        "  # layers is nothing but stacked one or more EncoderBlock. Ex: Encoder(nn.ModuleList(encoder_blocks))\n",
        "  def __init__(self, layers: nn.ModuleList)-> None:\n",
        "    super().__init__()\n",
        "    self.layers = layers\n",
        "    self.norm = LayerNormalization()\n",
        "\n",
        "  def forward(self, x, mask):\n",
        "    for layer in self.layers:\n",
        "      x = layer(x, mask)\n",
        "    return self.norm(x)"
      ],
      "metadata": {
        "id": "8WpeiyfWOwQb"
      },
      "execution_count": null,
      "outputs": []
    },
    {
      "cell_type": "code",
      "source": [],
      "metadata": {
        "id": "5QRDgV7hQo0F"
      },
      "execution_count": null,
      "outputs": []
    },
    {
      "cell_type": "markdown",
      "source": [
        "<hr>\n",
        "<hr>"
      ],
      "metadata": {
        "id": "cIQw22U6S4_z"
      }
    },
    {
      "cell_type": "code",
      "source": [
        "class DecoderBlock(nn.Module):\n",
        "  def __init__(self, self_attention_block: MultiHeadAttentionBlock, cross_attention_block: MultiHeadAttentionBlock, feed_forward_block: FeedForwardBlock, dropout: float) -> None:\n",
        "    super().__init__()\n",
        "    self.self_attention_block = self_attention_block\n",
        "    self.cross_attention_block = cross_attention_block\n",
        "    self.feed_forward_block = feed_forward_block\n",
        "    self.residual_connections = nn.ModuleList([ResidualConnection(dropout) for _ in range(3)])\n",
        "\n",
        "  def forward(self, x, encoder_output, src_mask, tgt_mask):\n",
        "    x = self.residual_connections[0](x, lambda x: self.self_attention_block(x, x, x, tgt_mask))\n",
        "    x = self.residual_connections[1](x, lambda x: self.cross_attention_block(x, encoder_output, encoder_output, src_mask))\n",
        "    x = self.residual_connections[2](x, self.feed_forward_block)\n",
        "    return x"
      ],
      "metadata": {
        "id": "11ULe5oKTdbG"
      },
      "execution_count": null,
      "outputs": []
    },
    {
      "cell_type": "code",
      "source": [
        "class Decoder(nn.Module):\n",
        "  # layers is nothing but stacked one or more DecoderBlock. Ex: Decoder(nn.ModuleList(decoder_blocks))\n",
        "  def __init__(self, layers: nn.ModuleList) -> None:\n",
        "    super().__init__()\n",
        "    self.layers = layers\n",
        "    self.norm = LayerNormalization()\n",
        "\n",
        "  def forward(self, x, encoder_output, src_mask, tgt_mask):\n",
        "    for layer in self.layers:\n",
        "      x = layer(x, encoder_output, src_mask, tgt_mask)\n",
        "    return self.norm(x)"
      ],
      "metadata": {
        "id": "oxytbl-DS_1i"
      },
      "execution_count": null,
      "outputs": []
    },
    {
      "cell_type": "code",
      "source": [
        "class ProjectionLayer(nn.Module):\n",
        "  # The layers outside the Decoder Blocks are: linear and\n",
        "  def __init__(self, d_model: int, vocab_size: int) -> None:\n",
        "    super().__init__()\n",
        "    self.proj = nn.Linear(d_model, vocab_size)\n",
        "\n",
        "  def forward(self, x):\n",
        "    # (Batch, seq_len, d_model) --> (Batch, seq_len, vocab_size)\n",
        "    return torch.log_softmax(self.proj(x), dim=-1)"
      ],
      "metadata": {
        "id": "-CPr84hTa530"
      },
      "execution_count": null,
      "outputs": []
    },
    {
      "cell_type": "code",
      "source": [
        "class Transformer(nn.Module):\n",
        "  def __init__(self, encoder: Encoder, decoder: Decoder, src_embed: InputEmbeddings, tgt_embed: InputEmbeddings, src_pos: PositionalEncoding, tgt_pos: PositionalEncoding, projection_layer: ProjectionLayer) -> None:\n",
        "    super().__init__()\n",
        "    self.encoder = encoder\n",
        "    self.decoder = decoder\n",
        "    self.src_embed = src_embed\n",
        "    self.tgt_embed = tgt_embed\n",
        "    self.src_pos = src_pos\n",
        "    self.tgt_pos = tgt_pos\n",
        "    self.projection_layer = projection_layer\n",
        "\n",
        "  def encode(self, src, src_mask):\n",
        "    src = self.src_embed(src)\n",
        "    src = self.src_pos(src)\n",
        "    return self.encoder(src, src_mask)\n",
        "\n",
        "  def decode(self, encoder_output, src_mask, tgt, tgt_mask):\n",
        "    tgt = self.tgt_embed(tgt)\n",
        "    tgt = self.tgt_pos(tgt)\n",
        "    return self.decoder(tgt, encoder_output, src_mask, tgt_mask) # Decoder's fwd function"
      ],
      "metadata": {
        "id": "j2-T1tXfOvuM"
      },
      "execution_count": null,
      "outputs": []
    },
    {
      "cell_type": "code",
      "source": [
        "def build_transformer(src_vocab_size: int,\n",
        "                      tgt_vocab_size: int,\n",
        "                      src_seq_len: int,\n",
        "                      tgt_seq_len: int,\n",
        "                      d_model: int = 512, # as per paper\n",
        "                      N: int = 6, # number stacked encoder/decoder layer\n",
        "                      h: int = 8, # no. of heads as per paper\n",
        "                      dropout: float = 0.1,\n",
        "                      d_ff: int = 2048, # no. of hidden layers of FF\n",
        "                      ) -> Transformer:\n",
        "\n",
        "                      # create the embedding layers\n",
        "                      src_embed = InputEmbeddings(d_model, src_vocab_size)\n",
        "                      tgt_embed = InputEmbeddings(d_model, tgt_vocab_size)\n",
        "\n",
        "                      # create positional encoding layers\n",
        "                      src_pos = PositionalEncoding(d_model, src_seq_len, dropout)\n",
        "                      tgt_pos = PositionalEncoding(d_model, tgt_seq_len, dropout)\n",
        "\n",
        "                      ##############################\n",
        "                      # create the encoder blocks  #\n",
        "                      ##############################\n",
        "                      encoder_blocks = []\n",
        "                      for _ in range(N):\n",
        "                        # each encoder block contains - one MultiHeadAttention, one FeedForwardBlock and 3) two ResidualConnection\n",
        "                        encoder_self_attention_block = MultiHeadAttentionBlock(d_model, h, dropout)\n",
        "                        feed_forward_block = FeedForwardBlock(d_model, d_ff, dropout)\n",
        "                        # EncoderBlock class assembles an Encoder using ResidualConnection class\n",
        "                        encoder_block = EncoderBlock(encoder_self_attention_block, feed_forward_block, dropout)\n",
        "                        encoder_blocks.append(encoder_block)\n",
        "\n",
        "                      #############################\n",
        "                      # create the decoder blocks #\n",
        "                      #############################\n",
        "                      decoder_blocks = []\n",
        "                      for _ in range(N):\n",
        "                        # each decoder  block contains - two MultiHeadAttention, one FeedForwardBlock and three ResidualConnection\n",
        "                        decoder_self_attention_block = MultiHeadAttentionBlock(d_model, h, dropout)\n",
        "                        decoder_cross_attention_block = MultiHeadAttentionBlock(d_model, h, dropout)\n",
        "                        feed_forward_block = FeedForwardBlock(d_model, d_ff, dropout)\n",
        "                        decoder_block = DecoderBlock(decoder_self_attention_block, decoder_cross_attention_block, feed_forward_block, dropout)\n",
        "                        decoder_blocks.append(decoder_block)\n",
        "\n",
        "                      # create the encoder and decoder\n",
        "                      encoder = Encoder(nn.ModuleList(encoder_blocks))\n",
        "                      decoder = Decoder(nn.ModuleList(decoder_blocks))\n",
        "\n",
        "                      # create the projection layer\n",
        "                      projection_layer = ProjectionLayer(d_model, tgt_vocab_size)\n",
        "\n",
        "                      # Create the transformer\n",
        "                      transformer = Transformer(encoder, decoder, src_embed, tgt_embed, src_pos, tgt_pos, projection_layer)\n",
        "\n",
        "                      # initialize the params\n",
        "                      for p in transformer.parameters():\n",
        "                        if p.dim() > 1:\n",
        "                          nn.init.xavier_uniform_(p)\n",
        "\n",
        "                      return transformer"
      ],
      "metadata": {
        "id": "_iK92lzoxsgT"
      },
      "execution_count": null,
      "outputs": []
    },
    {
      "cell_type": "markdown",
      "source": [
        "</hr>\n",
        "</hr>\n",
        "\n",
        "# train.py\n",
        "\n",
        "Tokenization comprises several steps.\n",
        "\n",
        "![image.png](data:image/png;base64,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)"
      ],
      "metadata": {
        "id": "oQ1vuhBw9eGB"
      }
    },
    {
      "cell_type": "code",
      "source": [
        "import torch\n",
        "import torch.nn as nn\n",
        "from torch.utils.data import Dataset, DataLoader, random_split\n",
        "\n",
        "from datasets import load_dataset # huggingface allow easy download\n",
        "from tokenizers import Tokenizer\n",
        "from tokenizers.models import WordLevel\n",
        "from tokenizers.trainers import WordLevelTrainer\n",
        "from tokenizers.pre_tokenizers import Whitespace\n",
        "\n",
        "from pathlib import Path\n",
        "\n",
        "from torch.utils.tensorboard import SummaryWriter\n",
        "from tqdm import tqdm\n",
        "\n",
        "\n",
        "import warnings\n",
        "warnings.filterwarnings('ignore')"
      ],
      "metadata": {
        "id": "cohXZoaz-x_f"
      },
      "execution_count": null,
      "outputs": []
    },
    {
      "cell_type": "code",
      "source": [],
      "metadata": {
        "id": "nbaKg6KMaat9"
      },
      "execution_count": null,
      "outputs": []
    },
    {
      "cell_type": "code",
      "source": [
        "def get_all_sentences(ds, lang):\n",
        "  # Generator function to extract sentences from a dataset for a specified language.\n",
        "  for item in ds:\n",
        "    yield item['translation'][lang]"
      ],
      "metadata": {
        "id": "y0jLm33bK-yX"
      },
      "execution_count": null,
      "outputs": []
    },
    {
      "cell_type": "code",
      "source": [
        "def get_or_build_tokenizer(config, ds, lang):\n",
        "    \"\"\"\n",
        "    Retrieves an existing tokenizer or builds a new one for a specified language.\n",
        "\n",
        "    Parameters:\n",
        "        - config (Dict): Configuration dictionary containing tokenizer_file path.\n",
        "        - dataset (List[Dict]): List of dictionary entries representing the dataset.\n",
        "        - lang (str): Language key indicating the target language.\n",
        "\n",
        "    Returns:\n",
        "        - tokenizer (Tokenizer): Tokenizer object for the specified language.\n",
        "    \"\"\"\n",
        "\n",
        "    tokenizer_path = Path(config['tokenizer_file'].format(lang))\n",
        "\n",
        "    if not Path.exists(tokenizer_path):\n",
        "      # Most code taken from: https://huggingface.co/docs/tokenizers/quicktour\n",
        "      tokenizer = Tokenizer(WordLevel(unk_token='[UNK]'))\n",
        "      tokenizer.pre_tokenizer = Whitespace()\n",
        "      trainer = WordLevelTrainer(special_tokens=['[UNK]', '[PAD]', '[SOS]', '[EOS]'], min_frequency=2)\n",
        "      tokenizer.train_from_iterator(get_all_sentences(ds, lang), trainer=trainer)\n",
        "    else:\n",
        "      tokenizer = Tokenizer.from_file(str(tokenizer_path))\n",
        "\n",
        "    return tokenizer"
      ],
      "metadata": {
        "id": "Kk7PxZFyAFur"
      },
      "execution_count": null,
      "outputs": []
    },
    {
      "cell_type": "code",
      "source": [
        "def get_ds(config):\n",
        "  # It only has the train split, so we divide it overselves\n",
        "  ds_raw = load_dataset('opus_books', f\"{config['lang_src']}-{config['lang_tgt']}\", split='train')\n",
        "  #ds_raw = load_dataset(f\"{config['datasource']}\", f\"{config['lang_src']}-{config['lang_tgt']}\", split='train')\n",
        "\n",
        "  # opus_books: 'en-it' (english to Italian) - 1st entry\n",
        "  # {'id': '0', 'translation': {'en': 'Source: Project Gutenberg', 'it': 'Source: www.liberliber.it/Audiobook available here'}}\n",
        "\n",
        "  # build tokenizer\n",
        "  tokenizer_src = get_or_build_tokenizer(config, ds_raw, config['lang_src'])\n",
        "  tokenizer_tgt = get_or_build_tokenizer(config, ds_raw, config['lang_tgt'])\n",
        "\n",
        "  # keep train:validation = 0.9:0.1\n",
        "  train_ds_size = int(0.9 * len(ds_raw))\n",
        "  val_ds_size = len(ds_raw)-train_ds_size\n",
        "\n",
        "  train_ds_raw, val_ds_raw = random_split(ds_raw, [train_ds_size, val_ds_size])\n",
        "\n",
        "  train_ds = BilingualDataset(train_ds_raw, tokenizer_src, tokenizer_tgt, config['lang_src'], config['lang_tgt'], config['seq_len'])\n",
        "  val_ds = BilingualDataset(val_ds_raw, tokenizer_src, tokenizer_tgt, config['lang_src'], config['lang_tgt'], config['seq_len'])\n",
        "\n",
        "  max_len_src = 0\n",
        "  max_len_tgt = 0\n",
        "\n",
        "  for item in ds_raw:\n",
        "    src_ids = tokenizer_src.encode(item['translation'][config['lang_src']]).ids\n",
        "    tgt_ids = tokenizer_tgt.encode(item['translation'][config['lang_tgt']]).ids\n",
        "    max_len_src = max(max_len_src, len(src_ids))\n",
        "    max_len_tgt = max(max_len_tgt, len(tgt_ids))\n",
        "\n",
        "  print(f'Max length of source sentence: {max_len_src}')\n",
        "  print(f'Max length of target sentence: {max_len_tgt}')\n",
        "\n",
        "  train_dataloader = DataLoader(train_ds, batch_size=config['batch_size'], shuffle=True)\n",
        "  val_dataloader = DataLoader(val_ds, batch_size=1, shuffle=True)\n",
        "\n",
        "  return train_dataloader, val_dataloader, tokenizer_src, tokenizer_tgt\n"
      ],
      "metadata": {
        "id": "RpfJ6YdyLaL7"
      },
      "execution_count": null,
      "outputs": []
    },
    {
      "cell_type": "code",
      "source": [
        "def get_model(config, vocab_src_len, vocab_tgt_len):\n",
        "  model = build_transformer(vocab_src_len, vocab_tgt_len, config ['seq_len'], config ['seq_len'], config['d_model'])\n",
        "  return model"
      ],
      "metadata": {
        "id": "MAJnaHo5LlBo"
      },
      "execution_count": null,
      "outputs": []
    },
    {
      "cell_type": "code",
      "source": [
        "def train_model(config):\n",
        "  device = torch.device ('cuda' if torch.cuda.is_available() else 'cpu')\n",
        "  print(f'Using  device: {device}')\n",
        "\n",
        "  Path(config['model_folder']).mkdir(parents=True, exist_ok=True)\n",
        "\n",
        "  train_dataloader, val_dataloader, tokenizer_src, tokenizer_tgt = get_ds(config)\n",
        "  model = get_model(config, tokenizer_src.get_vocab_size(), tokenizer_tgt.get_vocab_size()).to(device)\n",
        "\n",
        "  # tensorboard\n",
        "  writer = SummaryWriter(config['experiment_name'])\n",
        "\n",
        "  optimizer = torch.optim.Adam(model.parameters(), lr=config['lr'], eps=1e-9)\n",
        "\n",
        "  # store the state of model & optimizer\n",
        "  initial_epoch = 0\n",
        "  global_step = 0\n",
        "\n",
        "  preload = config['preload']\n",
        "  model_filename = latest_weights_file_path(config) if preload == 'latest' else get_weights_file_path(config, preload) if preload else None\n",
        "  if model_filename:\n",
        "    model_filename = get_weights_file_path(config, config['preload'])\n",
        "    print(f'Preloading model {model_filename}')\n",
        "    state = torch.load(model_filename)\n",
        "    model.load_state_dict(state['model_state_dict'])\n",
        "    initial_epoch = state['epoch'] + 1\n",
        "    optimizer.load_state_dict(state['optimizer_state_dict'])\n",
        "    global_step = state['global_step']\n",
        "\n",
        "  # label_smoothing=0.1 => take 10% from highest probablity and give it to others\n",
        "  loss_fn = nn.CrossEntropyLoss(ignore_index=tokenizer_src.token_to_id('[PAD]'), label_smoothing=0.1).to(device)\n",
        "\n",
        "  for epoch in range(initial_epoch, config['num_epochs']):\n",
        "    model.train()\n",
        "    batch_iterator = tqdm(train_dataloader, desc=f\"Processing Epoch {epoch:02d}\")\n",
        "    for batch in batch_iterator:\n",
        "      encoder_input = batch['encoder_input'].to(device) # (B, seq_len)\n",
        "      decoder_input = batch['decoder_input'].to(device) # (B, seq_len)\n",
        "      encoder_mask = batch['encoder_mask'].to(device)   # (B, 1, 1, seq_len)\n",
        "      decoder_mask = batch['decoder_mask'].to(device)   # (B, 1, seq_len. seq_len)\n",
        "\n",
        "      encoder_output = model.encode(encoder_input, encoder_mask) # (B, seq_len, d_model)\n",
        "      decoder_output = model.decode(encoder_output, encoder_mask, decoder_input, decoder_mask) # (B, seq_len, d_model)\n",
        "      proj_output = model.ProjectionLayer(decoder_output) # (B, seq_len, tgt_vocab_size)\n",
        "      label = batch['label'].to(device) # (B, seq_len)\n",
        "\n",
        "      # (B, seq_len, tgt_vocab_size) -> (B * seq_len, tgt_vocab_size)\n",
        "      loss = loss_fn(proj_output.view(-1, tokenizer_tgt.get_vocab_size()), label.view(-1))\n",
        "\n",
        "      batch_iterator.set_postfix({'loss': f'{loss.item():6.3f}'})\n",
        "\n",
        "      # log to tensorboard\n",
        "      writer.add_scalar('train_loss', loss.item(), global_step)\n",
        "      writer.flush()\n",
        "\n",
        "      # backprop\n",
        "      loss.backward()\n",
        "\n",
        "      # update weights\n",
        "      optimizer.step()\n",
        "      optimizer.zero_grad()\n",
        "\n",
        "      global_step += 1 # used for tensorboard\n",
        "\n",
        "    # save model at the end of every epoch\n",
        "    model_filename = get_weights_file_path(config, f'(epoch:02d)')\n",
        "    torch.save({\n",
        "        'epoch': epoch,\n",
        "        'model_state_dict': model.state_dict(),\n",
        "        'optimizer_state_dict': optimizer.state_dict(),\n",
        "        'global_step': global_step\n",
        "    }, model_filename)\n"
      ],
      "metadata": {
        "id": "F7l4eMrvkk3X"
      },
      "execution_count": null,
      "outputs": []
    },
    {
      "cell_type": "code",
      "source": [
        "# config = get_config()\n",
        "# train_model(config)"
      ],
      "metadata": {
        "id": "v3PsarKmu-Jb"
      },
      "execution_count": null,
      "outputs": []
    },
    {
      "cell_type": "markdown",
      "source": [
        "</hr>\n",
        "</hr>\n",
        "\n",
        "# config.py"
      ],
      "metadata": {
        "id": "i6tJmq48kmb4"
      }
    },
    {
      "cell_type": "code",
      "source": [
        "from pathlib import Path\n",
        "\n",
        "def get_config():\n",
        "  return {\n",
        "        \"batch_size\": 8,\n",
        "        \"num_epochs\": 20,\n",
        "        \"lr\": 10**-4,\n",
        "        \"seq_len\": 350,\n",
        "        \"d_model\": 512,\n",
        "        \"datasource\": 'opus_books',\n",
        "        \"lang_src\": \"en\",\n",
        "        \"lang_tgt\": \"it\",\n",
        "        \"model_folder\": \"weights\",\n",
        "        \"model_basename\": \"tmodel_\",\n",
        "        \"preload\": \"latest\",\n",
        "        \"tokenizer_file\": \"tokenizer_{0}.json\",\n",
        "        \"experiment_name\": \"runs/tmodel\"\n",
        "  }\n",
        "\n",
        "def get_weights_file_path(config, epoch:str):\n",
        "  model_folder = config['model_folder']\n",
        "  model_basename = config['model_basename']\n",
        "  model_filename = f\"{model_basename}{epoch}.pt\"\n",
        "  return str(Path('.') / model_folder / model_filename)\n",
        "\n",
        "# Find the latest weights file in the weights folder\n",
        "def latest_weights_file_path(config):\n",
        "    model_folder = f\"{config['datasource']}_{config['model_folder']}\"\n",
        "    model_filename = f\"{config['model_basename']}*\"\n",
        "    weights_files = list(Path(model_folder).glob(model_filename))\n",
        "    if len(weights_files) == 0:\n",
        "        return None\n",
        "    weights_files.sort()\n",
        "    return str(weights_files[-1])"
      ],
      "metadata": {
        "id": "7gu0_kQnktjm"
      },
      "execution_count": null,
      "outputs": []
    },
    {
      "cell_type": "code",
      "source": [],
      "metadata": {
        "id": "DybLRWf1uzsN"
      },
      "execution_count": null,
      "outputs": []
    },
    {
      "cell_type": "markdown",
      "source": [
        "</hr>\n",
        "</hr>\n",
        "\n",
        "# dataset.py\n",
        "- Functions that will convert our dataset into tensor that model can consume"
      ],
      "metadata": {
        "id": "TPvyskN7LnTS"
      }
    },
    {
      "cell_type": "code",
      "source": [
        "import torch\n",
        "from typing import Any"
      ],
      "metadata": {
        "id": "y_vEpltAMVXy"
      },
      "execution_count": null,
      "outputs": []
    },
    {
      "cell_type": "code",
      "source": [
        "class BilingualDataset(Dataset):\n",
        "  def __init__(self, ds, tokenizer_src, tokenizer_tgt, src_lang, tgt_lang, seq_len) -> None:\n",
        "    super().__init__()\n",
        "\n",
        "    self.ds = ds\n",
        "    self.tokenizer_src = tokenizer_src\n",
        "    self.tokenizer_tgt = tokenizer_tgt\n",
        "    self.src_lang = src_lang\n",
        "    self.tgt_lang = tgt_lang\n",
        "    self.seq_len = seq_len\n",
        "\n",
        "    # Create tensor for each - SOS/EOS/PAD that will be concanated with input tensor\n",
        "    # Ex: <SOD> <input tokens> <PAD> <EOS>\n",
        "    self.sos_token = torch.tensor([tokenizer_src.token_to_id('[SOS]')], dtype=torch.int64)\n",
        "    self.eos_token = torch.tensor([tokenizer_src.token_to_id('[EOS]')], dtype=torch.int64)\n",
        "    self.pad_token = torch.tensor([tokenizer_src.token_to_id('[PAD]')], dtype=torch.int64)\n",
        "\n",
        "  def __len__(self):\n",
        "    return len(self.ds)\n",
        "\n",
        "  def __getitem__(self, index: Any) -> Any:\n",
        "    src_target_pair = self.ds[index]\n",
        "    src_text = src_target_pair['translation'][self.src_lang]\n",
        "    tgt_text = src_target_pair['translation'][self.tgt_lang]\n",
        "\n",
        "    # tokenizer.encode() method to convert text to tokens\n",
        "    enc_input_tokens = self.tokenizer_src.encode(src_text).ids\n",
        "    dec_input_tokens = self.tokenizer_tgt.encode(tgt_text).ids\n",
        "\n",
        "    enc_num_padding_tokens = self.seq_len - len(enc_input_tokens) -2 # will add [SOS] & [EOS] so -2\n",
        "    dec_num_padding_tokens = self.seq_len - len(dec_input_tokens) -1 # in training we only add [SOS] to decode so only one. [EOS] is added to label(target)/decoder output.\n",
        "\n",
        "    if enc_num_padding_tokens < 0 or dec_num_padding_tokens < 0:\n",
        "      raise ValueError('Sentence is too long. Add code to truncate teh long sequences')\n",
        "\n",
        "    # Add [SOS] and [EOS] to source text\n",
        "    encoder_input = torch.cat(\n",
        "        [\n",
        "            self.sos_token,\n",
        "            torch.tensor(enc_input_tokens, dtype=torch.int64),\n",
        "            self.eos_token,\n",
        "            torch.tensor([self.pad_token] * enc_num_padding_tokens, dtype=torch.int64),\n",
        "        ],\n",
        "        dim=0\n",
        "    )\n",
        "\n",
        "    # [EOS] in decoder input because the model learns to generate <EOS>.\n",
        "    #     - Target Sequence: [\"Hello\", \"world\", \"[EOS]\"]\n",
        "    #     - Decoder Input (shifted right): [\"[SOS]\", \"Hello\", \"world\"]\n",
        "    decoder_input = torch.cat(\n",
        "        [\n",
        "            self.sos_token,\n",
        "            torch.tensor(dec_input_tokens, dtype=torch.int64),\n",
        "            torch.tensor([self.pad_token] * dec_num_padding_tokens, dtype=torch.int64),\n",
        "        ],\n",
        "        dim=0\n",
        "    )\n",
        "\n",
        "    # it has only [EOS]\n",
        "    label = torch.cat(\n",
        "        [\n",
        "            torch.tensor(dec_input_tokens, dtype=torch.int64),\n",
        "            self.eos_token,\n",
        "            torch.tensor([self.pad_token] * dec_num_padding_tokens, dtype=torch.int64),\n",
        "        ],\n",
        "        dim=0\n",
        "    )\n",
        "\n",
        "    assert encoder_input.size(0) == self.seq_len\n",
        "    assert decoder_input.size(0) == self.seq_len\n",
        "    assert label.size(0) == self.seq_len\n",
        "\n",
        "    return {\n",
        "        \"encoder_input\": encoder_input, # (seq_len)\n",
        "        \"decoder_input\": decoder_input,  # (seq_len)\n",
        "        \"encoder_mask\": (encoder_input != self.pad_token).unsqueeze(0).unsqueeze(0).int(), # (1,1, seq_len)\n",
        "        \"decoder_mask\": (decoder_input != self.pad_token).unsqueeze(0).int() & causal_mask(decoder_input.size(0)), # (1, seq_len) & (1, seq_len, seq_len)\n",
        "        \"label\": label, # (seq_len)\n",
        "        \"srcs_text\": src_text,\n",
        "        \"tgt_text\": tgt_text\n",
        "    }\n",
        "\n",
        "\n",
        "def causal_mask(size):\n",
        "  # diagonal=1 would retain elements on and above the first diagonal\n",
        "  mask = torch.triu(torch.ones((1, size, size)), diagonal=1).type(torch.int)\n",
        "  return mask == 0 # negate it"
      ],
      "metadata": {
        "id": "Qz0FHn8JMX2N"
      },
      "execution_count": null,
      "outputs": []
    },
    {
      "cell_type": "markdown",
      "source": [
        "</hr>\n",
        "</hr>\n",
        "\n",
        "# Start training"
      ],
      "metadata": {
        "id": "aGtbAfXDvcgg"
      }
    },
    {
      "cell_type": "code",
      "source": [
        "config = get_config()\n",
        "train_model(config)"
      ],
      "metadata": {
        "colab": {
          "base_uri": "https://localhost:8080/"
        },
        "id": "uVelsuj1vsjo",
        "outputId": "740e4e8b-9c30-4bca-ba6f-2f6fdcd95088"
      },
      "execution_count": null,
      "outputs": [
        {
          "output_type": "stream",
          "name": "stdout",
          "text": [
            "Using  device: cpu\n",
            "Max length of source sentence: 309\n",
            "Max length of target sentence: 274\n"
          ]
        },
        {
          "output_type": "stream",
          "name": "stderr",
          "text": [
            "\rProcessing Epoch 00:   0%|          | 0/3638 [00:00<?, ?it/s]"
          ]
        }
      ]
    },
    {
      "cell_type": "code",
      "source": [
        "class FeedForwardBlock(nn.Module):\n",
        "    def __init__(self, d_model: int, d_ff: int, dropout: float = 0.1):\n",
        "        super().__init__()\n",
        "        # First linear transformation (input to hidden layer)\n",
        "        self.linear1 = nn.Linear(d_model, d_ff)\n",
        "\n",
        "        # Activation function (ReLU)\n",
        "        self.activation = nn.ReLU()\n",
        "\n",
        "        # Second linear transformation (hidden layer to output)\n",
        "        self.linear2 = nn.Linear(d_ff, d_model)\n",
        "\n",
        "        # Dropout for regularization\n",
        "        self.dropout = nn.Dropout(dropout)\n",
        "\n",
        "    def forward(self, x: torch.Tensor) -> torch.Tensor:\n",
        "        x = self.linear1(x) # (Batch, seq_len, d_model) -> (Batch, seq_len, d_ff)\n",
        "        x = self.activation(x)\n",
        "        x = self.dropout(x)\n",
        "        x = self.linear2(x) # (Batch, seq_len, d_ff) -> (Batch, seq_len, d_model)\n",
        "\n",
        "        return x"
      ],
      "metadata": {
        "id": "JdFinkxgapYY"
      },
      "execution_count": null,
      "outputs": []
    }
  ]
}